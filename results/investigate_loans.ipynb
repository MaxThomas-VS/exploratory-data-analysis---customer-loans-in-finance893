{
 "cells": [
  {
   "cell_type": "markdown",
   "id": "4e74acbe",
   "metadata": {},
   "source": [
    "# Summary\n",
    "An explortory analysis of a portfolio of 53165 loans, totalling £707 million, is used to investigate the value and predictors of financial risk.\n",
    "50 % of the portfolio is fully paid, 11% has been charged off, while 39% is currently being repayed. The potential revenue from all outstanding loans is £289 million.\n",
    "91 % of commited funding has been recovered, which would increase to 98 % over the next 6 months if all current loans were repaid on schedule.\n",
    "56 % of the commited funding to charged off loans was recovered. 3.4 % of customers are late on their repayments. The total loss if all late customers were charged offwould be £20 million relative to full repayment.\n",
    "The combined loss from charged off loans and late loans if they were charged off is 44 % of the total outstanding revenue.\n",
    "\n",
    "Customers were labeled with a grade and sub-grade, and these show potential for quantifying the risk of charge off. Grade G loans were charged off 28 %, contrasting with Grade A loans were charged off in 4.3 % of cases. \n",
    "Five year loans were at 7 % more risk of charge off than three year loans. Loans for small buisnesses stood apart as higher risk. Most loans were for debt consolidation, and these has a similar risk of charge off as the full portfolio. Credit card debt accounted for around 20 % of loans, and was relatively low risk for charge off.\n",
    "Annual income was lower in customers with charged off loans than fully paid loans. Customers with charged off or late loans had higher average interst rates than full paid loans. DTI, a measure of the customer's affordability of the customers debt, was lower in fully paid loans than charged off or late loans. "
   ]
  },
  {
   "cell_type": "code",
   "execution_count": null,
   "id": "d25601b3",
   "metadata": {},
   "outputs": [],
   "source": [
    "import db_utils as dbu\n",
    "import matplotlib.pyplot as plt\n",
    "import pandas as pd\n",
    "import numpy as np\n",
    "import seaborn as sns\n",
    "\n",
    "def get_potential_value(df):\n",
    "    '''\n",
    "    Calculate the potential value of a loan if it were fully repaid.\n",
    "\n",
    "    Parameters:\n",
    "    ----------\n",
    "    df: pandas dataframe\n",
    "        some dataframe to calculate the potential value of\n",
    "    \n",
    "    Returns:\n",
    "    --------\n",
    "    potential value: float\n",
    "        the potential value in GBP\n",
    "    '''\n",
    "    # P: principle [GBP], r: interest rate, t: term [years]\n",
    "    P, r, t = df['loan_amount'], 1+df['int_rate']/100, df['term_numeric']/12 \n",
    "    return ( P * ( r ** t ) ).sum()\n",
    "\n",
    "def get_loss_breakdown(df, loan_status):\n",
    "    '''\n",
    "    Calculate the key statistics for a given dataset and loan status.\n",
    "\n",
    "    Parameters:\n",
    "    ----------\n",
    "    df: pandas dataframe\n",
    "        some dataframe \n",
    "    loan_status: str\n",
    "        string to match in 'loan_status-simple' column (e.g. 'Current')\n",
    "    \n",
    "    Returns:\n",
    "    --------\n",
    "    loss_breakdown: dict\n",
    "        the key stats stored in a dictionary\n",
    "    '''\n",
    "    loss_breakdown = {}\n",
    "    if loan_status:\n",
    "        df2 = df.loc[df['loan_status-simple']==loan_status]\n",
    "    else:\n",
    "        df2 = df\n",
    "    loss_breakdown['total_loaned'] = df2['funded_amount'].sum()\n",
    "    loss_breakdown['total_recovered'] = df2['total_payment'].sum()\n",
    "    loss_breakdown['potential_value'] = get_potential_value(df2)\n",
    "    if loan_status == 'Charged Off':\n",
    "        loss_breakdown['extra_recoveries'] = df2['recoveries'].sum()\n",
    "    else:\n",
    "        loss_breakdown['extra_recoveries'] = 0\n",
    "    loss_breakdown['total_lost'] = loss_breakdown['total_loaned'] - (loss_breakdown['total_recovered'] + loss_breakdown['extra_recoveries'])\n",
    "    loss_breakdown['potential_lost'] = loss_breakdown['potential_value'] - (loss_breakdown['total_recovered'] + loss_breakdown['extra_recoveries'])\n",
    "    return loss_breakdown\n",
    "\n",
    "def label_function(val):\n",
    "    ''' Labels for pi chart.'''\n",
    "    return f'{val / 100 * len(df):.0f}\\n{val:.0f}%'\n",
    "\n",
    "def get_pct_loanstatus(df, status):\n",
    "    ''' Get percentage of a given loan status within a dataframe'''\n",
    "    N = len(df)\n",
    "    n = df['loan_status-simple'].value_counts()[status]\n",
    "    return 100 * n / N\n",
    "    \n",
    "def x_pct_of_y(x, y, df):\n",
    "    ''' Calculate a percentage.\n",
    "\n",
    "    Parameters:\n",
    "    ----------\n",
    "    x, y: str or float\n",
    "        either column names for dtatframe (if df provided) \n",
    "        or numbers (if df passed as None)\n",
    "    df: pandas dataframe or None\n",
    "        either pass a dataframe or None\n",
    "    \n",
    "    Returns:\n",
    "    --------\n",
    "    percentage of x wrt y: float\n",
    "    '''\n",
    "    if df is None:\n",
    "        return 100 * x / y\n",
    "    else:\n",
    "        return 100 * df[x].sum() / df[y].sum()\n",
    "\n",
    "def pct_status(df, column, value, status):\n",
    "    ''' Return the percentage of a given value within a column with a given loan status.\n",
    "    \n",
    "    Parameters:\n",
    "    ----------\n",
    "    df: pandas dataframe\n",
    "    column: str\n",
    "        column name within df\n",
    "    value: str\n",
    "        value within df[column]\n",
    "    status: str\n",
    "        value within df['loan_status-simple']\n",
    "    \n",
    "    Returns:\n",
    "    --------\n",
    "    pct_return: float\n",
    "        percentage of given loan status within a subset of the dataframe\n",
    "    len_df: int\n",
    "        length of subset dataframe\n",
    "    '''\n",
    "    df_subset = df.loc[df[column]==value]\n",
    "    len_df = len(df_subset)\n",
    "    num_status = df_subset['loan_status-simple'].value_counts()[status]\n",
    "    pct_return = x_pct_of_y(num_status,len_df,df=None)\n",
    "    return pct_return, len_df\n",
    "\n",
    "def pct_status_series(df, column, status):\n",
    "    ''' Loop through categories within a given column and store stats from pct_status.\n",
    "\n",
    "    Parameters:\n",
    "    ----------\n",
    "    df: pandas dataframe\n",
    "    column: str\n",
    "        column name within df\n",
    "    status: str\n",
    "        value within df['loan_status-simple']\n",
    "    \n",
    "    Returns:\n",
    "    --------\n",
    "    pct_stats: pandas dataframe\n",
    "        pct_status output for each category stored\n",
    "\n",
    "    '''\n",
    "    values = []\n",
    "    cats = []\n",
    "    n_in_cat = []\n",
    "    for cg in df[column].cat.categories:\n",
    "        value, num = pct_status(df,column,cg,status)\n",
    "        n_in_cat.append(num)\n",
    "        values.append(value)\n",
    "        cats.append(cg)\n",
    "    pct_stats = pd.DataFrame({'pct': values, 'n':n_in_cat}, index=cats)\n",
    "    return pct_stats \n",
    "\n",
    "def plot_bar(height, labels, Ns=None, title=''):\n",
    "    ''' Plots a bar chart.\n",
    "\n",
    "    Parameters:\n",
    "    ----------\n",
    "    height: list of float\n",
    "        height of bars\n",
    "    labels: list of str\n",
    "        xlabels for bars\n",
    "    Ns: list of int or None\n",
    "        number of observations for each bar\n",
    "    title: str\n",
    "        plot title\n",
    "    '''\n",
    "    plt.figure()\n",
    "    ax = sns.barplot(x=labels, y=height)\n",
    "    pos = range(len(height))\n",
    "    if not Ns is None:\n",
    "        for tick,label in zip(pos,ax.get_xticklabels()):\n",
    "            ax.text(pos[tick], height[tick], Ns[tick], horizontalalignment='center', rotation=300, color='k', size='small')\n",
    "    plt.title(title)\n",
    "    plt.xticks(rotation=45, ha='right')\n",
    "    plt.xlabel('')"
   ]
  },
  {
   "cell_type": "markdown",
   "id": "34c64483",
   "metadata": {
    "lines_to_next_cell": 0
   },
   "source": [
    "First we read in our clean data, as produced by define_dataframe.py."
   ]
  },
  {
   "cell_type": "code",
   "execution_count": null,
   "id": "cb39074b",
   "metadata": {},
   "outputs": [],
   "source": [
    "df = pd.read_pickle('../data/loan_payments-clean.pkl')\n",
    "insights = {}"
   ]
  },
  {
   "cell_type": "markdown",
   "id": "ad108e59",
   "metadata": {
    "lines_to_next_cell": 0
   },
   "source": [
    "Next, we add a simplified loan status column. The various categories of customers with late payments are grouped together under 'Late', while the various 'Charged Off' and 'Fully Paid' categories are grouped."
   ]
  },
  {
   "cell_type": "code",
   "execution_count": null,
   "id": "41537fed",
   "metadata": {},
   "outputs": [],
   "source": [
    "transformer = dbu.DataFrameTransform()\n",
    "transformer.SimpleLoanStatus(df)"
   ]
  },
  {
   "cell_type": "markdown",
   "id": "25bd282f",
   "metadata": {
    "lines_to_next_cell": 0
   },
   "source": [
    "In this way we reduce the loan categories to 4."
   ]
  },
  {
   "cell_type": "code",
   "execution_count": null,
   "id": "1877ab2b",
   "metadata": {},
   "outputs": [],
   "source": [
    "df['loan_status'].value_counts()\n",
    "print('')\n",
    "df['loan_status-simple'].value_counts()\n",
    "\n",
    "fig, ax = plt.subplots(ncols=1, figsize=(5, 5))\n",
    "df.groupby('loan_status-simple').size().plot(kind='pie', autopct=label_function, textprops={'fontsize': 10},\n",
    "                                  colors=['tomato', 'gold', 'skyblue', 'green', 'magenta'], ax=ax)"
   ]
  },
  {
   "cell_type": "markdown",
   "id": "97b327a5",
   "metadata": {
    "lines_to_next_cell": 0
   },
   "source": [
    "We investigate the status of the all the loans for context.\n",
    "What percentage of loans are recovered against investor funding and total funding?\n",
    "What percentage would be recovered up to 6 months in future?"
   ]
  },
  {
   "cell_type": "code",
   "execution_count": null,
   "id": "d5fb0be5",
   "metadata": {},
   "outputs": [],
   "source": [
    "insights = {\n",
    "        'recovered_total': x_pct_of_y('total_payment', 'funded_amount', df),\n",
    "        'recovered_total_inv': x_pct_of_y('total_payment_inv', 'funded_amount_inv', df)\n",
    "           }\n",
    "\n",
    "print('Over the entire dataset, the recovered total is:')\n",
    "print('> %s %% of total funding' % (round(insights['recovered_total'], 2)))\n",
    "print('> %s %% of investor funding' % (round(insights['recovered_total_inv'], 2)))\n",
    "print('')\n",
    "\n",
    "\n",
    "\n",
    "df['total_payment-est+6'] = np.where(df['loan_status']=='Current', df['total_payment']+df['instalment']*6, df['total_payment'])\n",
    "\n",
    "insights['recovered_total-est+6'] = x_pct_of_y('total_payment-est+6', 'funded_amount', df)\n",
    "print('Over the next 6 months, repayment of current loans would generate %s million GBP in revenue.' % ((df['total_payment-est+6'].sum() - df['total_payment'].sum()) * 10**-6))\n",
    "print('This would increase recovery to %s %% of the total commited.' % (insights['recovered_total-est+6']))\n",
    "\n",
    "\n"
   ]
  },
  {
   "cell_type": "markdown",
   "id": "c4129e01",
   "metadata": {},
   "source": [
    "Next, we investigate Charged Off loans specifically. These loans were not fully repaid and no more income is expected from them."
   ]
  },
  {
   "cell_type": "code",
   "execution_count": null,
   "id": "dd37ad8d",
   "metadata": {
    "lines_to_next_cell": 2
   },
   "outputs": [],
   "source": [
    "loss_breakdown = {}\n",
    "df['loan_status'].value_counts()\n",
    "pct_charged_off = get_pct_loanstatus(df, 'Charged Off')\n",
    "\n",
    "loss_breakdown['Charged Off'] = get_loss_breakdown(df, 'Charged Off')\n",
    "\n",
    "insights['recovered_from_charged_off'] = \\\n",
    "    100 * (1 - loss_breakdown['Charged Off']['total_lost']/loss_breakdown['Charged Off']['total_loaned']) \n",
    "post_recovery_charged_off = 100 * loss_breakdown['Charged Off']['extra_recoveries']/loss_breakdown['Charged Off']['total_recovered']\n",
    "\n",
    "print('%s %% of charged off loans were recovered.' % (insights['recovered_from_charged_off']))\n",
    "print('%s %% of charged off recoveries were recieved after closure of the loan.' % (post_recovery_charged_off))\n",
    "\n",
    "#plt.bar(x=insights.keys(), height=insights.values())\n",
    "plot_bar(height=[x * 10**-6 for x in list(loss_breakdown['Charged Off'].values())],\n",
    "         labels=loss_breakdown['Charged Off'].keys(),\n",
    "         title='Financial metrics for charged off loans (million GBP).')\n",
    "#plt.bar(x=loss_breakdown['Charged Off'].keys(),\n",
    "#        height=loss_breakdown['Charged Off'].values())"
   ]
  },
  {
   "cell_type": "markdown",
   "id": "c090029e",
   "metadata": {
    "lines_to_next_cell": 0
   },
   "source": [
    "Now we want to investigate risk in the loan portfolio. \n",
    "Those who are late on their payments may be at greater risk of being Charged Off and we focus on them."
   ]
  },
  {
   "cell_type": "code",
   "execution_count": null,
   "id": "2d9e728c",
   "metadata": {
    "lines_to_next_cell": 2
   },
   "outputs": [],
   "source": [
    "pct_late = get_pct_loanstatus(df, 'Late')\n",
    "print('%s %% of customers are late on loan repayments.' % (round(pct_late,1)))\n",
    "loss_breakdown['Late'] = get_loss_breakdown(df, 'Late')\n",
    "\n",
    "print('The total loss if all those in arrears were charged off would be %s Million GBP.' % (round(loss_breakdown['Late']['total_lost'],2) / 10**6))\n",
    "print('The loss relative to the value of full repayment for all those in arrears were charged off would be %s Million GBP.' % (round(loss_breakdown['Late']['potential_lost'],2) / 10**6))"
   ]
  },
  {
   "cell_type": "markdown",
   "id": "e341b2ef",
   "metadata": {
    "lines_to_next_cell": 0
   },
   "source": [
    "We can quantify an upper limit on the risks deriving from those late on payments by changing their loan status to Charged Off and quantifying losses."
   ]
  },
  {
   "cell_type": "code",
   "execution_count": null,
   "id": "8c7f1985",
   "metadata": {
    "lines_to_next_cell": 2
   },
   "outputs": [],
   "source": [
    "df_co_late = df.loc[ (df['loan_status-simple']=='Charged Off') | \n",
    "                     (df['loan_status-simple']=='Late')]\n",
    "\n",
    "loss_breakdown['Late->Charged Off'] = get_loss_breakdown(df_co_late, None)\n",
    "\n",
    "loss_breakdown['Current'] = get_loss_breakdown(df, 'Current')\n",
    "\n",
    "print('The potential revenue from all outstanding loans is %s Million GBP.' % (loss_breakdown['Current']['potential_lost'] * 10**-6))\n",
    "print('If all those in arrears were charged off, the total charged off revenue would be %s Million GBP.' % (loss_breakdown['Late->Charged Off']['potential_lost'] * 10**-6))\n",
    "print('This is %s %% of the total.' % (100 * loss_breakdown['Late->Charged Off']['potential_lost'] / loss_breakdown['Current']['potential_lost']))"
   ]
  },
  {
   "cell_type": "markdown",
   "id": "18b1e77f",
   "metadata": {
    "lines_to_next_cell": 0
   },
   "source": [
    "What factors control the likelihood of charging off loans?\n",
    "First, we visualise the impact of the categorical variables.\n",
    "The height of the bars represents the percentage of loans in a given category that were charged off, while the overlying number gives the total customers in that category.\n",
    "Taking *term*, below, as an example, we see that around 9 % of 36 month loans were charged off whereas around 15 % of 60 month loans were charged off. The sample size is large for both categories (well over 10000 in each), so we expect these percentages to be robust.\n",
    "\n",
    "*grade* is a good predictor of the likelihood of charge off. Each decrease in *grade* makes charge off more likely. From the best (A) to the worst (G) gradings, we find a 23.6 % increase in the likelihood of charge off. \n",
    "\n",
    "*sub_grade* is also clearly related to the likelihood of charge off, though smaller sample sizes introduce extra variability relative to *grade*.\n",
    "\n",
    "*employment_length* shows no clear trend with likelihood of charge off.\n",
    "\n",
    "Renters are more likely that mortgage payers to charge off by 2.3 %. Outright owners have a similar charge off probability to renters, which is a surprising result. Further investigation into the causes of relatively high rates of charge off in outright home owners is warranted.\n",
    "\n",
    "Small buisness related loans stand out as having especially high charge off rates. Over half of the loans were for debt consolidation, and the charge off rates for these are 0.7 % lower than the charg off rates for the entire loan portfolio."
   ]
  },
  {
   "cell_type": "code",
   "execution_count": null,
   "id": "d8ded89c",
   "metadata": {},
   "outputs": [],
   "source": [
    "data_frame_info = dbu.DataFrameInfo()\n",
    "#iscat = data_frame_info.IsCategorical(df)\n",
    "iscat = ['term','grade','sub_grade','employment_length','home_ownership','purpose']\n",
    "cat_pct = {}\n",
    "for cv in iscat:\n",
    "    cat_pct[cv] = pct_status_series(df, cv, 'Charged Off')\n",
    "    plot_bar(height=cat_pct[cv]['pct'].values,\n",
    "             labels=cat_pct[cv].index,\n",
    "             Ns=cat_pct[cv]['n'].values,\n",
    "             title='% of loans charged off, ' + cv)"
   ]
  },
  {
   "cell_type": "markdown",
   "id": "5c60eb8f",
   "metadata": {
    "lines_to_next_cell": 0
   },
   "source": [
    "We investigate the numerical variables by visualising their probability density function (PDF). The horizontal axis gives the range of values for a given variable, while the vertical axis gives the probability of that value appearing in the dataset. \n",
    "We calculate and plot PDF for subsets of the dataset (*Fully Paid*, *Current*, *Charged Off*, and *Late*).\n",
    "Differences between *Fully Paid* and *Charged Off* indicate that a given variable could be useful in predicting the likelihood of charge off.\n",
    "We can also compare the *Late* and *Current* categories to the *Fully Paid* and *Charged Off* categories. For example, If the PDF for *Current* is more similar to *Fully Paid* than *Charged Off* it suggests less risk in the current loans.\n",
    "\n",
    "*dti* is a measure of the debt burden of the loan relative to the customers total debt. Lower values indicate that repayments on the loan are less burdonsome. For *Fully Paid* loans, *dti* is indeed generally lower than for *Charged Off*. For *Current* and *Late* loans, *dti* is more similar to *Charged Off* than *Fully Paid*.\n",
    "\n",
    "The *annual_income* is generally lower for *Charged Off* customers. *Fully Paid* and *Current* customers have similar *annual_income*. \n",
    "\n",
    "The interest rate is higher in *Charged Off* (median=14.35 %) than in *Fully Paid* (median=12.99 %). Interest rates for *Late* customers are more similar to *Charged Off*, while *Current* customers have rates more similar to *Fully Paid*."
   ]
  },
  {
   "cell_type": "code",
   "execution_count": null,
   "id": "fe9f32a6",
   "metadata": {
    "lines_to_next_cell": 0
   },
   "outputs": [],
   "source": [
    "for variable in ['dti','int_rate','instalment','annual_inc']:\n",
    "    fig, ax = plt.subplots(1,1)\n",
    "    colours = ['black','green','red','blue']\n",
    "    statuss = ['Fully Paid', 'Current', 'Charged Off', 'Late']\n",
    "    for status, colour in zip(statuss, colours):\n",
    "        to_plot = df[variable].loc[df['loan_status-simple']==status]\n",
    "        median = to_plot.median()\n",
    "        label = status + ': median = ' + str(np.round(median,2))\n",
    "        sns.kdeplot(to_plot, label=label, color=colour)\n",
    "        plt.axvline(median, color=colour, linestyle='dashed', linewidth=1)\n",
    "    plt.legend(loc='upper right')\n",
    "    plt.title('Probability desnsity function for ' + variable)\n",
    "        #sns.histplot(to_plot, kde=True, element='step', fill=False, stat='density', ax=ax, hue='white')"
   ]
  },
  {
   "cell_type": "code",
   "execution_count": null,
   "id": "5a2e672b",
   "metadata": {},
   "outputs": [],
   "source": []
  }
 ],
 "metadata": {
  "jupytext": {
   "cell_metadata_filter": "-all",
   "main_language": "python",
   "notebook_metadata_filter": "-all"
  }
 },
 "nbformat": 4,
 "nbformat_minor": 5
}
